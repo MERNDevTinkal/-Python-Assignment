{
  "nbformat": 4,
  "nbformat_minor": 0,
  "metadata": {
    "colab": {
      "provenance": []
    },
    "kernelspec": {
      "name": "python3",
      "display_name": "Python 3"
    },
    "language_info": {
      "name": "python"
    }
  },
  "cells": [
    {
      "cell_type": "code",
      "execution_count": null,
      "metadata": {
        "id": "7F-uRNR3Wtq3"
      },
      "outputs": [],
      "source": []
    },
    {
      "cell_type": "markdown",
      "source": [],
      "metadata": {
        "id": "z1dC56hKW7xj"
      }
    },
    {
      "cell_type": "markdown",
      "source": [],
      "metadata": {
        "id": "Im9guZT1XS5v"
      }
    },
    {
      "cell_type": "markdown",
      "source": [
        "\n",
        "\n",
        "## **Assignment – Python Scripting**\n",
        "\n",
        "---\n",
        "\n",
        "### **1. Write Python scripts for basic file operations and data processing**\n",
        "\n",
        "**Answer:**\n",
        "\n",
        "```python\n",
        "# 1. Basic File Operations and Data Processing\n",
        "\n",
        "# Step 1: Create and write to a file\n",
        "with open(\"sample_data.txt\", \"w\") as file:\n",
        "    file.write(\"Name,Score\\n\")\n",
        "    file.write(\"Alice,85\\n\")\n",
        "    file.write(\"Bob,90\\n\")\n",
        "    file.write(\"Charlie,78\\n\")\n",
        "\n",
        "print(\"File created and data written successfully.\")\n",
        "\n",
        "# Step 2: Read file and process data\n",
        "with open(\"sample_data.txt\", \"r\") as file:\n",
        "    lines = file.readlines()\n",
        "\n",
        "# Remove header and process scores\n",
        "scores = []\n",
        "for line in lines[1:]:  # skip header\n",
        "    name, score = line.strip().split(\",\")\n",
        "    scores.append(int(score))\n",
        "\n",
        "average_score = sum(scores) / len(scores)\n",
        "\n",
        "print(\"Scores:\", scores)\n",
        "print(\"Average Score:\", average_score)\n",
        "```\n",
        "\n",
        "---\n",
        "\n",
        "### **2. Develop a simple web scraper to extract data from a website**\n",
        "\n",
        "**Answer:**\n",
        "\n",
        "```python\n",
        "# 2. Simple Web Scraper Example\n",
        "# Install required libraries (uncomment if needed in Colab)\n",
        "# !pip install requests beautifulsoup4\n",
        "\n",
        "import requests\n",
        "from bs4 import BeautifulSoup\n",
        "\n",
        "# Step 1: Send request to website\n",
        "url = \"https://quotes.toscrape.com/\"  # Public site for scraping practice\n",
        "response = requests.get(url)\n",
        "response.raise_for_status()  # Check for errors\n",
        "\n",
        "# Step 2: Parse HTML content\n",
        "soup = BeautifulSoup(response.text, \"html.parser\")\n",
        "\n",
        "# Step 3: Extract quotes and authors\n",
        "quotes_data = []\n",
        "for quote in soup.find_all(\"div\", class_=\"quote\"):\n",
        "    text = quote.find(\"span\", class_=\"text\").get_text()\n",
        "    author = quote.find(\"small\", class_=\"author\").get_text()\n",
        "    quotes_data.append({\"quote\": text, \"author\": author})\n",
        "\n",
        "# Step 4: Display extracted data\n",
        "for q in quotes_data:\n",
        "    print(f\"{q['quote']} — {q['author']}\")\n",
        "```\n",
        "\n",
        "---\n"
      ],
      "metadata": {
        "id": "8b2jcKQKrqCY"
      }
    }
  ]
}